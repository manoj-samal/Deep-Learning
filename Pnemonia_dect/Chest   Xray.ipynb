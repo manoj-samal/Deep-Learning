{
 "cells": [
  {
   "cell_type": "code",
   "execution_count": null,
   "metadata": {
    "id": "i4fpfq2Ksl7L"
   },
   "outputs": [],
   "source": [
    "import cv2\n",
    "import glob\n",
    "import pandas as pd\n",
    "import urllib\n",
    "import urllib3\n",
    "from sklearn.model_selection import train_test_split\n",
    "import os\n",
    "import requests\n",
    "import matplotlib.pyplot as plt\n",
    "import numpy as np"
   ]
  },
  {
   "cell_type": "code",
   "execution_count": null,
   "metadata": {
    "id": "pEMYjFX3sowB"
   },
   "outputs": [],
   "source": [
    "train_images= glob.glob(r\"drive/MyDrive/test/**/*.jpeg\")\n"
   ]
  },
  {
   "cell_type": "code",
   "execution_count": null,
   "metadata": {
    "colab": {
     "base_uri": "https://localhost:8080/"
    },
    "id": "DjiGjiZp1uEB",
    "outputId": "71bf0841-a32e-4b4b-bef3-e14935ee4458"
   },
   "outputs": [
    {
     "data": {
      "text/plain": [
       "624"
      ]
     },
     "execution_count": 3,
     "metadata": {},
     "output_type": "execute_result"
    }
   ],
   "source": [
    "len(train_images)"
   ]
  },
  {
   "cell_type": "code",
   "execution_count": null,
   "metadata": {
    "id": "X-OUabOX18l3"
   },
   "outputs": [],
   "source": [
    "folders = os.listdir(r\"drive/MyDrive/test\")"
   ]
  },
  {
   "cell_type": "code",
   "execution_count": null,
   "metadata": {
    "id": "wtkHq1BGstNy"
   },
   "outputs": [],
   "source": [
    "dic_images={}\n",
    "for fold in  folders:\n",
    "    dic_images[fold]=glob.glob(r\"drive/MyDrive/test/{}/*.jpeg\".format(fold))"
   ]
  },
  {
   "cell_type": "code",
   "execution_count": null,
   "metadata": {
    "id": "3mc7rNxG0wXr"
   },
   "outputs": [],
   "source": [
    "dic_labels={}\n",
    "for i,j in enumerate(folders):\n",
    "    dic_labels[j] = i"
   ]
  },
  {
   "cell_type": "code",
   "execution_count": null,
   "metadata": {
    "id": "rQ2ufS-A0jj0"
   },
   "outputs": [],
   "source": [
    "X,y=[],[]\n",
    "for i,j in  dic_images.items():\n",
    "    for img in j:\n",
    "        g = cv2.imread(img)\n",
    "        c= cv2.resize(g,(224,224))\n",
    "        X.append(c)\n",
    "        y.append(dic_labels[i])"
   ]
  },
  {
   "cell_type": "code",
   "execution_count": null,
   "metadata": {
    "id": "X7RKjU514Tgk"
   },
   "outputs": [],
   "source": [
    "X = np.asarray(X).astype('float32')\n",
    "y= np.array(y)"
   ]
  },
  {
   "cell_type": "code",
   "execution_count": null,
   "metadata": {
    "id": "6EgEV5tK4aDM"
   },
   "outputs": [],
   "source": [
    "X_resize =X/255.0"
   ]
  },
  {
   "cell_type": "code",
   "execution_count": null,
   "metadata": {
    "colab": {
     "base_uri": "https://localhost:8080/"
    },
    "id": "joOSWZK_5CkD",
    "outputId": "c2fc9a6e-342d-40f4-fa0a-999a2105750f"
   },
   "outputs": [],
   "source": []
  },
  {
   "cell_type": "code",
   "execution_count": null,
   "metadata": {
    "id": "1sybYfSZ4iUd"
   },
   "outputs": [],
   "source": [
    "import numpy as np\n",
    "import cv2\n",
    "\n",
    "import PIL.Image as Image\n",
    "import os\n",
    "\n",
    "import matplotlib.pylab as plt\n",
    "\n",
    "import tensorflow as tf\n",
    "import tensorflow_hub as hub\n",
    "\n",
    "from tensorflow import keras\n",
    "from tensorflow.keras import layers\n",
    "from tensorflow.keras.layers import Flatten,Dense,Conv2D,MaxPool2D,AvgPool2D,GlobalAvgPool2D,BatchNormalization\n",
    "from tensorflow.keras.models import Sequential,Model\n",
    "from keras_tuner.tuners import RandomSearch "
   ]
  },
  {
   "cell_type": "code",
   "execution_count": null,
   "metadata": {
    "id": "Xbz1Aerj4arH"
   },
   "outputs": [],
   "source": [
    "import tensorflow as tf\n",
    "\n",
    "def build_model(hp):\n",
    "    inputs = tf.keras.Input(shape=(224, 224, 3))\n",
    "    x = inputs\n",
    "    for i in range(hp.Int('conv_blocks', 3, 5, default=3)):\n",
    "        filters = hp.Int('filters_' + str(i), 32, 256, step=32)\n",
    "        for _ in range(2):\n",
    "            x = tf.keras.layers.Convolution2D(\n",
    "            filters, kernel_size=(3, 3), padding='same')(x)\n",
    "            x = tf.keras.layers.BatchNormalization()(x)\n",
    "            x = tf.keras.layers.ReLU()(x)\n",
    "            if hp.Choice('pooling_' + str(i), ['avg', 'max']) == 'max':\n",
    "                x = tf.keras.layers.MaxPool2D(padding='same')(x)\n",
    "            else:\n",
    "                x = tf.keras.layers.AvgPool2D(padding='same')(x)\n",
    "    x = tf.keras.layers.GlobalAvgPool2D()(x)\n",
    "    x = tf.keras.layers.Dense(\n",
    "      hp.Int('hidden_size', 30, 100, step=10, default=50),\n",
    "      activation='relu')(x)\n",
    "    x = tf.keras.layers.Dropout(\n",
    "      hp.Float('dropout', 0, 0.5, step=0.1, default=0.5))(x)\n",
    "    outputs = tf.keras.layers.Dense(1, activation='sigmoid')(x)\n",
    "\n",
    "    model = tf.keras.Model(inputs, outputs)\n",
    "    model.compile(\n",
    "    optimizer=tf.keras.optimizers.Adam(hp.Float('learning_rate', 1e-4, 1e-2, sampling='log')),  \n",
    "                                        loss=keras.losses.BinaryCrossentropy(from_logits=False), \n",
    "                                          metrics=['accuracy'])\n",
    "    return model"
   ]
  },
  {
   "cell_type": "code",
   "execution_count": null,
   "metadata": {
    "colab": {
     "base_uri": "https://localhost:8080/"
    },
    "id": "a57aC9rt4lt3",
    "outputId": "7199fc49-f096-41d8-85a1-32f878156384"
   },
   "outputs": [
    {
     "name": "stdout",
     "output_type": "stream",
     "text": [
      "INFO:tensorflow:Reloading Oracle from existing project drive/MyDrive/untitled_project/oracle.json\n"
     ]
    }
   ],
   "source": [
    "import keras_tuner as kt\n",
    "\n",
    "tuner = kt.Hyperband(build_model,\n",
    "                     objective='accuracy',\n",
    "                     max_epochs=3,\n",
    "                     hyperband_iterations=2,\n",
    "                     directory=r\"drive/MyDrive/\")"
   ]
  },
  {
   "cell_type": "code",
   "execution_count": null,
   "metadata": {
    "colab": {
     "base_uri": "https://localhost:8080/"
    },
    "id": "eacsfHao4ogt",
    "outputId": "50ae5096-b124-4204-c47b-aada0a7b7471"
   },
   "outputs": [
    {
     "name": "stdout",
     "output_type": "stream",
     "text": [
      "Trial 13 Complete [00h 00m 25s]\n",
      "accuracy: 0.8878205418586731\n",
      "\n",
      "Best accuracy So Far: 0.9150640964508057\n",
      "Total elapsed time: 00h 05m 30s\n",
      "INFO:tensorflow:Oracle triggered exit\n"
     ]
    }
   ],
   "source": [
    "tuner.search(X_resize,y)"
   ]
  },
  {
   "cell_type": "code",
   "execution_count": null,
   "metadata": {
    "id": "_5DdoYFc-nkQ"
   },
   "outputs": [],
   "source": [
    "model=tuner.get_best_models(num_models=1)[0]"
   ]
  },
  {
   "cell_type": "code",
   "execution_count": null,
   "metadata": {
    "colab": {
     "base_uri": "https://localhost:8080/"
    },
    "id": "rEAgJUsxAuFG",
    "outputId": "7ac9582d-fa59-4ae0-9b55-b11713108757"
   },
   "outputs": [
    {
     "name": "stdout",
     "output_type": "stream",
     "text": [
      "Model: \"model\"\n",
      "_________________________________________________________________\n",
      " Layer (type)                Output Shape              Param #   \n",
      "=================================================================\n",
      " input_1 (InputLayer)        [(None, 224, 224, 3)]     0         \n",
      "                                                                 \n",
      " conv2d (Conv2D)             (None, 224, 224, 192)     5376      \n",
      "                                                                 \n",
      " batch_normalization (BatchN  (None, 224, 224, 192)    768       \n",
      " ormalization)                                                   \n",
      "                                                                 \n",
      " re_lu (ReLU)                (None, 224, 224, 192)     0         \n",
      "                                                                 \n",
      " average_pooling2d (AverageP  (None, 112, 112, 192)    0         \n",
      " ooling2D)                                                       \n",
      "                                                                 \n",
      " conv2d_1 (Conv2D)           (None, 112, 112, 192)     331968    \n",
      "                                                                 \n",
      " batch_normalization_1 (Batc  (None, 112, 112, 192)    768       \n",
      " hNormalization)                                                 \n",
      "                                                                 \n",
      " re_lu_1 (ReLU)              (None, 112, 112, 192)     0         \n",
      "                                                                 \n",
      " average_pooling2d_1 (Averag  (None, 56, 56, 192)      0         \n",
      " ePooling2D)                                                     \n",
      "                                                                 \n",
      " conv2d_2 (Conv2D)           (None, 56, 56, 192)       331968    \n",
      "                                                                 \n",
      " batch_normalization_2 (Batc  (None, 56, 56, 192)      768       \n",
      " hNormalization)                                                 \n",
      "                                                                 \n",
      " re_lu_2 (ReLU)              (None, 56, 56, 192)       0         \n",
      "                                                                 \n",
      " max_pooling2d (MaxPooling2D  (None, 28, 28, 192)      0         \n",
      " )                                                               \n",
      "                                                                 \n",
      " conv2d_3 (Conv2D)           (None, 28, 28, 192)       331968    \n",
      "                                                                 \n",
      " batch_normalization_3 (Batc  (None, 28, 28, 192)      768       \n",
      " hNormalization)                                                 \n",
      "                                                                 \n",
      " re_lu_3 (ReLU)              (None, 28, 28, 192)       0         \n",
      "                                                                 \n",
      " max_pooling2d_1 (MaxPooling  (None, 14, 14, 192)      0         \n",
      " 2D)                                                             \n",
      "                                                                 \n",
      " conv2d_4 (Conv2D)           (None, 14, 14, 160)       276640    \n",
      "                                                                 \n",
      " batch_normalization_4 (Batc  (None, 14, 14, 160)      640       \n",
      " hNormalization)                                                 \n",
      "                                                                 \n",
      " re_lu_4 (ReLU)              (None, 14, 14, 160)       0         \n",
      "                                                                 \n",
      " max_pooling2d_2 (MaxPooling  (None, 7, 7, 160)        0         \n",
      " 2D)                                                             \n",
      "                                                                 \n",
      " conv2d_5 (Conv2D)           (None, 7, 7, 160)         230560    \n",
      "                                                                 \n",
      " batch_normalization_5 (Batc  (None, 7, 7, 160)        640       \n",
      " hNormalization)                                                 \n",
      "                                                                 \n",
      " re_lu_5 (ReLU)              (None, 7, 7, 160)         0         \n",
      "                                                                 \n",
      " max_pooling2d_3 (MaxPooling  (None, 4, 4, 160)        0         \n",
      " 2D)                                                             \n",
      "                                                                 \n",
      " conv2d_6 (Conv2D)           (None, 4, 4, 224)         322784    \n",
      "                                                                 \n",
      " batch_normalization_6 (Batc  (None, 4, 4, 224)        896       \n",
      " hNormalization)                                                 \n",
      "                                                                 \n",
      " re_lu_6 (ReLU)              (None, 4, 4, 224)         0         \n",
      "                                                                 \n",
      " max_pooling2d_4 (MaxPooling  (None, 2, 2, 224)        0         \n",
      " 2D)                                                             \n",
      "                                                                 \n",
      " conv2d_7 (Conv2D)           (None, 2, 2, 224)         451808    \n",
      "                                                                 \n",
      " batch_normalization_7 (Batc  (None, 2, 2, 224)        896       \n",
      " hNormalization)                                                 \n",
      "                                                                 \n",
      " re_lu_7 (ReLU)              (None, 2, 2, 224)         0         \n",
      "                                                                 \n",
      " max_pooling2d_5 (MaxPooling  (None, 1, 1, 224)        0         \n",
      " 2D)                                                             \n",
      "                                                                 \n",
      " conv2d_8 (Conv2D)           (None, 1, 1, 256)         516352    \n",
      "                                                                 \n",
      " batch_normalization_8 (Batc  (None, 1, 1, 256)        1024      \n",
      " hNormalization)                                                 \n",
      "                                                                 \n",
      " re_lu_8 (ReLU)              (None, 1, 1, 256)         0         \n",
      "                                                                 \n",
      " max_pooling2d_6 (MaxPooling  (None, 1, 1, 256)        0         \n",
      " 2D)                                                             \n",
      "                                                                 \n",
      " conv2d_9 (Conv2D)           (None, 1, 1, 256)         590080    \n",
      "                                                                 \n",
      " batch_normalization_9 (Batc  (None, 1, 1, 256)        1024      \n",
      " hNormalization)                                                 \n",
      "                                                                 \n",
      " re_lu_9 (ReLU)              (None, 1, 1, 256)         0         \n",
      "                                                                 \n",
      " max_pooling2d_7 (MaxPooling  (None, 1, 1, 256)        0         \n",
      " 2D)                                                             \n",
      "                                                                 \n",
      " global_average_pooling2d (G  (None, 256)              0         \n",
      " lobalAveragePooling2D)                                          \n",
      "                                                                 \n",
      " dense (Dense)               (None, 90)                23130     \n",
      "                                                                 \n",
      " dropout (Dropout)           (None, 90)                0         \n",
      "                                                                 \n",
      " dense_1 (Dense)             (None, 1)                 91        \n",
      "                                                                 \n",
      "=================================================================\n",
      "Total params: 3,420,917\n",
      "Trainable params: 3,416,821\n",
      "Non-trainable params: 4,096\n",
      "_________________________________________________________________\n"
     ]
    }
   ],
   "source": [
    "model.summary()"
   ]
  },
  {
   "cell_type": "code",
   "execution_count": null,
   "metadata": {
    "colab": {
     "base_uri": "https://localhost:8080/"
    },
    "id": "4UWxLkYpQpma",
    "outputId": "7762dd94-60d9-462e-b845-ccfbf4314742"
   },
   "outputs": [
    {
     "name": "stdout",
     "output_type": "stream",
     "text": [
      "Epoch 3/6\n",
      "20/20 [==============================] - 13s 574ms/step - loss: 0.2218 - accuracy: 0.8926\n",
      "Epoch 4/6\n",
      "20/20 [==============================] - 11s 573ms/step - loss: 0.1497 - accuracy: 0.9503\n",
      "Epoch 5/6\n",
      "20/20 [==============================] - 11s 573ms/step - loss: 0.2233 - accuracy: 0.9054\n",
      "Epoch 6/6\n",
      "20/20 [==============================] - 11s 571ms/step - loss: 0.1796 - accuracy: 0.9279\n"
     ]
    },
    {
     "data": {
      "text/plain": [
       "<keras.callbacks.History at 0x7fe1c0f8e610>"
      ]
     },
     "execution_count": 26,
     "metadata": {},
     "output_type": "execute_result"
    }
   ],
   "source": [
    "model.fit(X_resize,y,epochs=6, batch_size=None, verbose='auto', callbacks=None, validation_split=0.0, validation_data=None, shuffle=True, class_weight=None, sample_weight=None, initial_epoch=2, steps_per_epoch=None, validation_steps=None, validation_batch_size=None, validation_freq=1, max_queue_size=10, workers=1, use_multiprocessing=False)"
   ]
  },
  {
   "cell_type": "code",
   "execution_count": null,
   "metadata": {
    "id": "-8IL8__QUNXb"
   },
   "outputs": [],
   "source": [
    "test_images= glob.glob(r\"drive/MyDrive/val/**/*.jpeg\")"
   ]
  },
  {
   "cell_type": "code",
   "execution_count": null,
   "metadata": {
    "id": "RPLtwHcbUOXn"
   },
   "outputs": [],
   "source": [
    "dic_images={}\n",
    "for fold in  folders:\n",
    "    dic_images[fold]=glob.glob(r\"drive/MyDrive/val/{}/*.jpeg\".format(fold))"
   ]
  },
  {
   "cell_type": "code",
   "execution_count": null,
   "metadata": {
    "id": "QT2mSJf0UO6S"
   },
   "outputs": [],
   "source": [
    "dic_labels={}\n",
    "for i,j in enumerate(folders):\n",
    "    dic_labels[j] = i"
   ]
  },
  {
   "cell_type": "code",
   "execution_count": null,
   "metadata": {
    "id": "GXBdg1_hUPLz"
   },
   "outputs": [],
   "source": [
    "X_test,y_test=[],[]\n",
    "for i,j in  dic_images.items():\n",
    "    for img in j:\n",
    "        g = cv2.imread(img)\n",
    "        c= cv2.resize(g,(224,224))\n",
    "        X_test.append(c)\n",
    "        y_test.append(dic_labels[i])"
   ]
  },
  {
   "cell_type": "code",
   "execution_count": null,
   "metadata": {
    "id": "d83oEeXMUPpM"
   },
   "outputs": [],
   "source": [
    "X_test = np.asarray(X_test).astype('float32')\n",
    "y_test= np.array(y_test)"
   ]
  },
  {
   "cell_type": "code",
   "execution_count": null,
   "metadata": {
    "id": "8p0C23b4Ug5R"
   },
   "outputs": [],
   "source": [
    "X_resacled =X_test/255.0"
   ]
  },
  {
   "cell_type": "code",
   "execution_count": null,
   "metadata": {
    "colab": {
     "base_uri": "https://localhost:8080/"
    },
    "id": "u4vqtU6gSpAA",
    "outputId": "ec737365-a571-452b-c1d9-c047fe475203"
   },
   "outputs": [
    {
     "name": "stdout",
     "output_type": "stream",
     "text": [
      "3/3 [==============================] - 1s 375ms/step - loss: 1.2836 - accuracy: 0.4242\n"
     ]
    }
   ],
   "source": [
    "loss,acc= model.evaluate(x=X_resacled, y=y_test, batch_size=None, verbose=1, sample_weight=None, steps=None, callbacks=None, max_queue_size=10, workers=1, use_multiprocessing=False, return_dict=False)"
   ]
  },
  {
   "cell_type": "code",
   "execution_count": null,
   "metadata": {
    "colab": {
     "base_uri": "https://localhost:8080/"
    },
    "id": "qce1HlCoWbDi",
    "outputId": "28c578bd-cda4-49bb-e419-3c9f5e62cb70"
   },
   "outputs": [
    {
     "data": {
      "text/plain": [
       "0.42424243688583374"
      ]
     },
     "execution_count": 46,
     "metadata": {},
     "output_type": "execute_result"
    }
   ],
   "source": [
    "acc"
   ]
  },
  {
   "cell_type": "code",
   "execution_count": null,
   "metadata": {
    "id": "S6SiX24_WqzC"
   },
   "outputs": [],
   "source": []
  }
 ],
 "metadata": {
  "accelerator": "GPU",
  "colab": {
   "name": "Untitled0.ipynb",
   "provenance": []
  },
  "kernelspec": {
   "display_name": "Python 3",
   "language": "python",
   "name": "python3"
  },
  "language_info": {
   "codemirror_mode": {
    "name": "ipython",
    "version": 3
   },
   "file_extension": ".py",
   "mimetype": "text/x-python",
   "name": "python",
   "nbconvert_exporter": "python",
   "pygments_lexer": "ipython3",
   "version": "3.9.5"
  }
 },
 "nbformat": 4,
 "nbformat_minor": 1
}
